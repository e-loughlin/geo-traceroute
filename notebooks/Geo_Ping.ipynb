{
 "cells": [
  {
   "cell_type": "markdown",
   "id": "c6109bb0",
   "metadata": {},
   "source": [
    "# Geo Ping"
   ]
  },
  {
   "cell_type": "code",
   "execution_count": null,
   "id": "193fa9a4-4808-4a08-b817-8383e4a4d3d7",
   "metadata": {},
   "outputs": [],
   "source": [
    "import src."
   ]
  }
 ],
 "metadata": {
  "kernelspec": {
   "display_name": "Python 3 (ipykernel)",
   "language": "python",
   "name": "python3"
  },
  "language_info": {
   "codemirror_mode": {
    "name": "ipython",
    "version": 3
   },
   "file_extension": ".py",
   "mimetype": "text/x-python",
   "name": "python",
   "nbconvert_exporter": "python",
   "pygments_lexer": "ipython3",
   "version": "3.10.14"
  }
 },
 "nbformat": 4,
 "nbformat_minor": 5
}
